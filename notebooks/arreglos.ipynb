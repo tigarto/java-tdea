{
 "cells": [
  {
   "cell_type": "code",
   "execution_count": 2,
   "metadata": {},
   "outputs": [
    {
     "name": "stdout",
     "output_type": "stream",
     "text": [
      "Requirement already satisfied: tutormagic in /usr/local/lib/python3.5/dist-packages (0.3.0)\n",
      "Requirement already satisfied: notebook>=3.0 in /usr/local/lib/python3.5/dist-packages (from tutormagic) (5.5.0)\n",
      "Requirement already satisfied: nbconvert in /usr/local/lib/python3.5/dist-packages (from notebook>=3.0->tutormagic) (5.3.1)\n",
      "Requirement already satisfied: traitlets>=4.2.1 in /usr/local/lib/python3.5/dist-packages (from notebook>=3.0->tutormagic) (4.3.2)\n",
      "Requirement already satisfied: ipython-genutils in /usr/local/lib/python3.5/dist-packages (from notebook>=3.0->tutormagic) (0.2.0)\n",
      "Requirement already satisfied: tornado>=4 in /usr/local/lib/python3.5/dist-packages (from notebook>=3.0->tutormagic) (5.0.2)\n",
      "Requirement already satisfied: ipykernel in /usr/local/lib/python3.5/dist-packages (from notebook>=3.0->tutormagic) (4.8.2)\n",
      "Requirement already satisfied: Send2Trash in /usr/local/lib/python3.5/dist-packages (from notebook>=3.0->tutormagic) (1.5.0)\n",
      "Requirement already satisfied: terminado>=0.8.1 in /usr/local/lib/python3.5/dist-packages (from notebook>=3.0->tutormagic) (0.8.1)\n",
      "Requirement already satisfied: jupyter-client>=5.2.0 in /usr/local/lib/python3.5/dist-packages (from notebook>=3.0->tutormagic) (5.2.3)\n",
      "Collecting pyzmq>=17 (from notebook>=3.0->tutormagic)\n",
      "  Using cached https://files.pythonhosted.org/packages/66/cf/979427611e7e1ad7cfb762139fc69a4db9b176aee55bf1379d57260fcf05/pyzmq-18.1.0-cp35-cp35m-manylinux1_x86_64.whl\n",
      "Requirement already satisfied: nbformat in /usr/local/lib/python3.5/dist-packages (from notebook>=3.0->tutormagic) (4.4.0)\n",
      "Requirement already satisfied: jupyter-core>=4.4.0 in /usr/local/lib/python3.5/dist-packages (from notebook>=3.0->tutormagic) (4.4.0)\n",
      "Requirement already satisfied: jinja2 in /usr/lib/python3/dist-packages (from notebook>=3.0->tutormagic) (2.8)\n",
      "Requirement already satisfied: testpath in /usr/local/lib/python3.5/dist-packages (from nbconvert->notebook>=3.0->tutormagic) (0.3.1)\n",
      "Requirement already satisfied: bleach in /usr/local/lib/python3.5/dist-packages (from nbconvert->notebook>=3.0->tutormagic) (2.1.3)\n",
      "Requirement already satisfied: mistune>=0.7.4 in /usr/local/lib/python3.5/dist-packages (from nbconvert->notebook>=3.0->tutormagic) (0.8.3)\n",
      "Requirement already satisfied: pandocfilters>=1.4.1 in /usr/local/lib/python3.5/dist-packages (from nbconvert->notebook>=3.0->tutormagic) (1.4.2)\n",
      "Requirement already satisfied: entrypoints>=0.2.2 in /usr/local/lib/python3.5/dist-packages (from nbconvert->notebook>=3.0->tutormagic) (0.2.3)\n",
      "Requirement already satisfied: pygments in /usr/lib/python3/dist-packages (from nbconvert->notebook>=3.0->tutormagic) (2.1)\n",
      "Requirement already satisfied: six in /usr/lib/python3/dist-packages (from traitlets>=4.2.1->notebook>=3.0->tutormagic) (1.10.0)\n",
      "Requirement already satisfied: decorator in /usr/lib/python3/dist-packages (from traitlets>=4.2.1->notebook>=3.0->tutormagic) (4.0.6)\n",
      "Requirement already satisfied: ipython>=4.0.0 in /usr/local/lib/python3.5/dist-packages (from ipykernel->notebook>=3.0->tutormagic) (6.4.0)\n",
      "Requirement already satisfied: ptyprocess; os_name != \"nt\" in /usr/lib/python3/dist-packages (from terminado>=0.8.1->notebook>=3.0->tutormagic) (0.5)\n",
      "Requirement already satisfied: python-dateutil>=2.1 in /usr/local/lib/python3.5/dist-packages (from jupyter-client>=5.2.0->notebook>=3.0->tutormagic) (2.8.0)\n",
      "Requirement already satisfied: jsonschema!=2.5.0,>=2.4 in /usr/lib/python3/dist-packages (from nbformat->notebook>=3.0->tutormagic) (2.5.1)\n",
      "Collecting html5lib!=1.0b1,!=1.0b2,!=1.0b3,!=1.0b4,!=1.0b5,!=1.0b6,!=1.0b7,!=1.0b8,>=0.99999999pre (from bleach->nbconvert->notebook>=3.0->tutormagic)\n",
      "  Using cached https://files.pythonhosted.org/packages/a5/62/bbd2be0e7943ec8504b517e62bab011b4946e1258842bc159e5dfde15b96/html5lib-1.0.1-py2.py3-none-any.whl\n",
      "Requirement already satisfied: jedi>=0.10 in /usr/local/lib/python3.5/dist-packages (from ipython>=4.0.0->ipykernel->notebook>=3.0->tutormagic) (0.12.0)\n",
      "Requirement already satisfied: prompt-toolkit<2.0.0,>=1.0.15 in /usr/local/lib/python3.5/dist-packages (from ipython>=4.0.0->ipykernel->notebook>=3.0->tutormagic) (1.0.15)\n",
      "Requirement already satisfied: backcall in /usr/local/lib/python3.5/dist-packages (from ipython>=4.0.0->ipykernel->notebook>=3.0->tutormagic) (0.1.0)\n",
      "Requirement already satisfied: pexpect; sys_platform != \"win32\" in /usr/lib/python3/dist-packages (from ipython>=4.0.0->ipykernel->notebook>=3.0->tutormagic) (4.0.1)\n",
      "Requirement already satisfied: pickleshare in /usr/local/lib/python3.5/dist-packages (from ipython>=4.0.0->ipykernel->notebook>=3.0->tutormagic) (0.7.4)\n",
      "Requirement already satisfied: setuptools>=18.5 in /usr/lib/python3/dist-packages (from ipython>=4.0.0->ipykernel->notebook>=3.0->tutormagic) (20.7.0)\n",
      "Requirement already satisfied: simplegeneric>0.8 in /usr/local/lib/python3.5/dist-packages (from ipython>=4.0.0->ipykernel->notebook>=3.0->tutormagic) (0.8.1)\n",
      "Requirement already satisfied: webencodings in /usr/local/lib/python3.5/dist-packages (from html5lib!=1.0b1,!=1.0b2,!=1.0b3,!=1.0b4,!=1.0b5,!=1.0b6,!=1.0b7,!=1.0b8,>=0.99999999pre->bleach->nbconvert->notebook>=3.0->tutormagic) (0.5.1)\n",
      "Requirement already satisfied: parso>=0.2.0 in /usr/local/lib/python3.5/dist-packages (from jedi>=0.10->ipython>=4.0.0->ipykernel->notebook>=3.0->tutormagic) (0.2.1)\n",
      "Requirement already satisfied: wcwidth in /usr/local/lib/python3.5/dist-packages (from prompt-toolkit<2.0.0,>=1.0.15->ipython>=4.0.0->ipykernel->notebook>=3.0->tutormagic) (0.1.7)\n",
      "Installing collected packages: pyzmq, html5lib\n",
      "  Found existing installation: pyzmq 15.2.0\n",
      "\u001b[31mCannot uninstall 'pyzmq'. It is a distutils installed project and thus we cannot accurately determine which files belong to it which would lead to only a partial uninstall.\u001b[0m\n",
      "\u001b[33mYou are using pip version 19.0.3, however version 19.3.1 is available.\n",
      "You should consider upgrading via the 'pip install --upgrade pip' command.\u001b[0m\n"
     ]
    }
   ],
   "source": [
    "!pip3 install tutormagic"
   ]
  },
  {
   "cell_type": "code",
   "execution_count": 3,
   "metadata": {},
   "outputs": [],
   "source": [
    "%load_ext tutormagic"
   ]
  },
  {
   "cell_type": "markdown",
   "metadata": {},
   "source": [
    "## Arreglos ##"
   ]
  },
  {
   "cell_type": "markdown",
   "metadata": {},
   "source": [
    "### Declaración ###\n",
    "\n",
    "#### Sintaxis ####\n",
    "\n",
    "**Forma 1**:\n",
    "```java\n",
    "tipo [] identificador;\n",
    "```\n",
    "\n",
    "**Forma 2**:\n",
    "```java\n",
    "tipo identificador[];\n",
    "```\n",
    "\n",
    "**Ejemplos**: Distintas declaraciones de arreglos.\n",
    "\n",
    "```java\n",
    "int[] numbers;\n",
    "char cad[], p;\n",
    "int [] v, w;\n",
    "double [] m, t[], x;\n",
    "```\n",
    "\n",
    "### Creación ###\n",
    "\n",
    "#### Sintaxis ####\n",
    "\n",
    "**Forma 1**:\n",
    "```java\n",
    "\n",
    "tipo nombreArreglo [];\n",
    "nombreArreglo = new tipo[numeroDeElementos];\n",
    "```\n",
    "\n",
    "**Forma 2**:\n",
    "```java\n",
    "tipo nombreArreglo [] = new tipo[numeroDeElementos];\n",
    "```\n",
    "\n",
    "**Ejemplos**: Se declaran y crean arreglos de diferentes tipos de datos.\n",
    "\n",
    "```java\n",
    "int[] numbers; // Declare a reference to an array that will hold integers.\n",
    "numbers = new int[6]; // Create a new array that will hold 6 integers.\n",
    "```\n",
    "\n",
    "```java\n",
    "int[] numbers = new int[6];\n",
    "```\n",
    "\n",
    "```java\n",
    "final int N = 20;\n",
    "float [] vector;\n",
    "vector = new float[N];\n",
    "```\n",
    "\n"
   ]
  },
  {
   "cell_type": "code",
   "execution_count": 7,
   "metadata": {},
   "outputs": [
    {
     "data": {
      "text/html": [
       "<div class=\"text-center\"><strong><a style=\"box-sizing: border-box; padding: 0 5px; border: 1px solid #CFCFCF;\" target=\"_\" href=http://pythontutor.com/iframe-embed.html#code=%0Apublic%20class%20ArraysExamples%20%7B%0A%20%20%20%20public%20static%20void%20main%28String%5B%5D%20args%29%20%7B%0A%20%20%20%20%20%20%20%20//%20Forma%201%0A%20%20%20%20%20%20%20%20int%20a%5B%5D%20%3D%20new%20int%20%5B10%5D%3B%0A%20%20%20%20%20%20%20%20//%20Forma%202%0A%20%20%20%20%20%20%20%20final%20int%20N%20%3D%2020%3B%0A%20%20%20%20%20%20%20%20float%20%5B%5D%20vector%3B%0A%20%20%20%20%20%20%20%20vector%20%3D%20new%20float%5BN%5D%3B%0A%0A%20%20%20%20%7D%0A%7D&origin=opt-frontend.js&cumulative=false&heapPrimitives=false&textReferences=false&curInstr=0&&verticalStack=false&py=java&rawInputLstJSON=%5B%5D&codeDivWidth=50%25&codeDivHeight=100%25>Python Tutor</a></strong></div>"
      ],
      "text/plain": [
       "<IPython.core.display.HTML object>"
      ]
     },
     "metadata": {},
     "output_type": "display_data"
    }
   ],
   "source": [
    "%%tutor -l java -k\n",
    "\n",
    "public class ArraysExamples {\n",
    "    public static void main(String[] args) {\n",
    "        // Forma 1\n",
    "        int a[] = new int [10];\n",
    "        // Forma 2\n",
    "        final int N = 20;\n",
    "        float [] vector;\n",
    "        vector = new float[N];\n",
    "\n",
    "    }\n",
    "}"
   ]
  },
  {
   "cell_type": "markdown",
   "metadata": {},
   "source": [
    "### Inicialización ###\n",
    "\n",
    "Se usa cuando se necesitan relativamente pocos items. A continuación se muestran diferentes ejemplos\n",
    "\n",
    "```java\n",
    "int[]days = {31, 28, 31, 30, 31, 30, 31, 31, 30, 31, 30, 31};\n",
    "```\n",
    "\n",
    "```java\n",
    "int numeros[] = {10, 20, 30, 40, 50, 60};\n",
    "int[]nms = {3, 4, 5}\n",
    "char c[] = {'L','u','i','s'};\n",
    "```\n",
    "\n",
    "```java\n",
    "final int ENE = 31, FEB = 28, MAR = 31, ABR = 30, MAY = 31,\n",
    "          JUN = 30, JUL = 31, AGO = 31, SEP = 30, OCT = 31,\n",
    "           NOV = 30, DIC = 31;\n",
    "\n",
    "int meses[] = {ENE, FEB, MAR, ABR, MAY, JUN, JUL, AGO, SEP, OCT, NOV, DIC};\n",
    "```\n"
   ]
  },
  {
   "cell_type": "markdown",
   "metadata": {},
   "source": [
    "### Subindices ###"
   ]
  },
  {
   "cell_type": "code",
   "execution_count": 14,
   "metadata": {},
   "outputs": [
    {
     "data": {
      "text/html": [
       "<div class=\"text-center\"><strong><a style=\"box-sizing: border-box; padding: 0 5px; border: 1px solid #CFCFCF;\" target=\"_\" href=http://pythontutor.com/iframe-embed.html#code=%0Apublic%20class%20ArraysExamples2%20%7B%0A%20%20%20%20public%20static%20void%20main%28String%5B%5D%20args%29%20%7B%0A%20%20%20%20%20%20%20%20float%20s%3B%0A%20%20%20%20%20%20%20%20int%20%5B%5D%20mes%20%3D%20new%20int%5B6%5D%3B%0A%20%20%20%20%20%20%20%20float%20salarios%5B%5D%3B%0A%20%20%20%20%20%20%20%20salarios%20%3D%20new%20float%5B13%5D%3B%0A%20%20%20%20%20%20%20%20mes%5B4%5D%20%3D%202%3B%0A%20%20%20%20%20%20%20%20s%20%3D%20salarios%5Bmes%5B4%5D%2A3%5D%3B%0A%20%20%20%20%7D%0A%7D&origin=opt-frontend.js&cumulative=false&heapPrimitives=false&textReferences=false&curInstr=0&&verticalStack=false&py=java&rawInputLstJSON=%5B%5D&codeDivWidth=50%25&codeDivHeight=100%25>Python Tutor</a></strong></div>"
      ],
      "text/plain": [
       "<IPython.core.display.HTML object>"
      ]
     },
     "metadata": {},
     "output_type": "display_data"
    }
   ],
   "source": [
    "%%tutor -l java -k\n",
    "\n",
    "public class ArraysExamples2 {\n",
    "    public static void main(String[] args) {\n",
    "        float s;\n",
    "        int [] mes = new int[6];\n",
    "        float salarios[];\n",
    "        salarios = new float[13];\n",
    "        mes[4] = 2;\n",
    "        s = salarios[mes[4]*3];\n",
    "    }\n",
    "}"
   ]
  },
  {
   "cell_type": "markdown",
   "metadata": {},
   "source": [
    "### Tamaño de los arreglos, atributo length ###"
   ]
  },
  {
   "cell_type": "code",
   "execution_count": 24,
   "metadata": {},
   "outputs": [
    {
     "data": {
      "text/html": [
       "<div class=\"text-center\"><strong><a style=\"box-sizing: border-box; padding: 0 5px; border: 1px solid #CFCFCF;\" target=\"_\" href=http://pythontutor.com/iframe-embed.html#code=%0Apublic%20class%20ArraysExample2%20%7B%0A%20%20%20%20public%20static%20void%20main%28String%5B%5D%20args%29%20%7B%0A%20%20%20%20%20%20%20%20ArraysExample2%20example%20%3D%20new%20ArraysExample2%28%29%3B%20%20//%20Por%20que%20se%20uso%20%3F%3F%3F%0A%20%20%20%20%20%20%20%20double%20%5B%5D%20v%20%3D%20new%20double%5B4%5D%3B%0A%20%20%20%20%20%20%20%20double%20rSum%20%3D%200%3B%0A%20%20%20%20%20%20%20%20for%20%28int%20i%20%3D%200%3B%20i%20%3C%20v.length%3B%20i%2B%2B%29%20%7B%0A%20%20%20%20%20%20%20%20%20%20%20%20v%5Bi%5D%20%3D%20i%3B%0A%20%20%20%20%20%20%20%20%20%20%20%20System.out.print%28v%5Bi%5D%20%2B%20%22%20%22%29%3B%0A%20%20%20%20%20%20%20%20%7D%0A%20%20%20%20%20%20%20%20System.out.println%28%29%3B%0A%20%20%20%20%20%20%20%20rSum%20%3D%20example.suma%28v%29%3B%20%20//%20Por%20que%20se%20uso%20%3F%3F%3F%0A%20%20%20%20%20%20%20%20System.out.println%28%22Resultado%20suma%3A%20%22%20%2B%20rSum%29%3B%0A%20%20%20%20%7D%0A%20%20%20%20%0A%20%20%20%20double%20suma%20%28double%5B%5D%20w%29%20%7B%0A%20%20%20%20%20%20double%20s%20%3D%200.0%3B%0A%20%20%20%20%20%20for%20%28int%20i%20%3D%200%3B%20i%20%3C%20w.length%3B%20i%2B%2B%29%0A%20%20%20%20%20%20%20%20s%20%2B%3D%20w%5Bi%5D%3B%0A%20%20%20%20%20%20return%20s%3B%0A%20%20%20%20%7D%0A%7D&origin=opt-frontend.js&cumulative=false&heapPrimitives=false&textReferences=false&curInstr=0&&verticalStack=false&py=java&rawInputLstJSON=%5B%5D&codeDivWidth=50%25&codeDivHeight=100%25>Python Tutor</a></strong></div>"
      ],
      "text/plain": [
       "<IPython.core.display.HTML object>"
      ]
     },
     "metadata": {},
     "output_type": "display_data"
    }
   ],
   "source": [
    "%%tutor -l java -k\n",
    "\n",
    "public class ArraysExample2 {\n",
    "    public static void main(String[] args) {\n",
    "        ArraysExample2 example = new ArraysExample2();  // Por que se uso ???\n",
    "        double [] v = new double[4];\n",
    "        double rSum = 0;\n",
    "        for (int i = 0; i < v.length; i++) {\n",
    "            v[i] = i;\n",
    "            System.out.print(v[i] + \" \");\n",
    "        }\n",
    "        System.out.println();\n",
    "        rSum = example.suma(v);  // Por que se uso ???\n",
    "        System.out.println(\"Resultado suma: \" + rSum);\n",
    "    }\n",
    "    \n",
    "    double suma (double[] w) {\n",
    "      double s = 0.0;\n",
    "      for (int i = 0; i < w.length; i++)\n",
    "        s += w[i];\n",
    "      return s;\n",
    "    }\n",
    "}"
   ]
  },
  {
   "cell_type": "markdown",
   "metadata": {},
   "source": [
    "### Verificación del índice de un arreglo ###\n",
    "En el siguiente fragmento de código se muestra proteger un vector de un error por indice fuera de rango\n",
    "\n",
    "```java\n",
    "int datos(double a[])\n",
    "{\n",
    "  int n;\n",
    "  System.out.println(\"Entrada de datos, cuantos elementos: ? \");\n",
    "  n = entrada.nextInt();\n",
    "  if (n > a.length)\n",
    "    return 0;\n",
    "  for (int i = 0; i < n; i++)\n",
    "    a[i]= entrada.nextDouble();\n",
    "  return 1;\n",
    "}\n",
    "```\n"
   ]
  },
  {
   "cell_type": "markdown",
   "metadata": {},
   "source": [
    "### Ejercicio 10.1 ###\n",
    "El programa escrito a continuación lee NUM enteros en un arreglo,\n",
    "multiplica los elementos del arreglo y visualiza el producto.\n",
    "\n",
    "**Solución**:\n",
    "    \n",
    "```java\n",
    "import java.util.Scanner;\n",
    "\n",
    "class Inicial {\n",
    "    public static void main(String [] a) {\n",
    "        final int NUM = 10;\n",
    "        Scanner entrada = new Scanner(System.in);\n",
    "        int []nums= new int[NUM];\n",
    "        int total = 1;\n",
    "        \n",
    "        System.out.println(\"Por favor, introduzca \" + NUM + \" datos\");\n",
    "        for (int i = 0; i < NUM; i++) {\n",
    "            nums[i] = entrada.nextInt();\n",
    "        }\n",
    "        \n",
    "        System.out.print(\"\\nLista de números: \");\n",
    "        for (int i = 0; i < NUM; i++) {\n",
    "            System.out.print(\" \" + nums[i]);\n",
    "            total *= nums[i];\n",
    "        }\n",
    "        \n",
    "        System.out.println(\"\\nEl producto de los números es \" + total);\n",
    "    }\n",
    "}\n",
    "```    "
   ]
  },
  {
   "cell_type": "markdown",
   "metadata": {},
   "source": [
    "**Ejemplo**: A menudo, los elementos de un arreglo representan una serie de valores que se emplearán en un cálculo.\n",
    "Por ejemplo, si los elementos del arreglo representan las califi caciones de un examen, tal vez el profesor desee sumar el total de los elementos del arreglo y utilizar esa suma para calcular el promedio de la clase para el examen. "
   ]
  },
  {
   "cell_type": "code",
   "execution_count": 5,
   "metadata": {},
   "outputs": [
    {
     "data": {
      "text/html": [
       "<div class=\"text-center\"><strong><a style=\"box-sizing: border-box; padding: 0 5px; border: 1px solid #CFCFCF;\" target=\"_\" href=http://pythontutor.com/iframe-embed.html#code=%0A//%20Fig.%207.5%3A%20SumaArreglo.java%20-%20Deitel%20y%20Deitel%0A//%20C%C3%A1lculo%20de%20la%20suma%20de%20los%20elementos%20de%20un%20arreglo.%0A%0Apublic%20class%20SumaArreglo%20%7B%0A%20%20public%20static%20void%20main%28%20String%20args%5B%5D%20%29%20%7B%0A%20%20%20%20int%20arreglo%5B%5D%20%3D%20%7B%2087%2C%2068%2C%2094%2C%20100%2C%2083%2C%2078%2C%2085%2C%2091%2C%2076%2C%2087%20%7D%3B%0A%20%20%20%20int%20total%20%3D%200%3B%0A%20%20%20%20%0A%20%20%20%20//%20suma%20el%20valor%20de%20cada%20elemento%20al%20total%0A%20%20%20%20for%20%28%20int%20contador%20%3D%200%3B%20contador%20%3C%20arreglo.length%3B%20contador%2B%2B%20%29%0A%20%20%20%20%20%20total%20%2B%3D%20arreglo%5B%20contador%20%5D%3B%0A%20%20%20%20%20%20%0A%20%20%20%20System.out.printf%28%20%22Total%20de%20los%20elementos%20del%20arreglo%3A%20%25d%5Cn%22%2C%20total%20%29%3B%0A%20%20%7D%20//%20fin%20de%20main%0A%7D%20//%20fin%20de%20la%20clase%20SumaArreglo&origin=opt-frontend.js&cumulative=false&heapPrimitives=false&textReferences=false&curInstr=0&&verticalStack=false&py=java&rawInputLstJSON=%5B%5D&codeDivWidth=50%25&codeDivHeight=100%25>Python Tutor</a></strong></div>"
      ],
      "text/plain": [
       "<IPython.core.display.HTML object>"
      ]
     },
     "metadata": {},
     "output_type": "display_data"
    }
   ],
   "source": [
    "%%tutor -l java -k\n",
    "\n",
    "// Fig. 7.5: SumaArreglo.java - Deitel y Deitel\n",
    "// Cálculo de la suma de los elementos de un arreglo.\n",
    "\n",
    "public class SumaArreglo {\n",
    "  public static void main( String args[] ) {\n",
    "    int arreglo[] = { 87, 68, 94, 100, 83, 78, 85, 91, 76, 87 };\n",
    "    int total = 0;\n",
    "    \n",
    "    // suma el valor de cada elemento al total\n",
    "    for ( int contador = 0; contador < arreglo.length; contador++ )\n",
    "      total += arreglo[ contador ];\n",
    "      \n",
    "    System.out.printf( \"Total de los elementos del arreglo: %d\\n\", total );\n",
    "  } // fin de main\n",
    "} // fin de la clase SumaArreglo"
   ]
  },
  {
   "cell_type": "markdown",
   "metadata": {},
   "source": [
    "**Ejemplo**: A los profesores les gusta examinar a menudo la distribución de las calificaciones en un examen. Un profesor podría graficar el número de califi caciones en cada una de varias categorías, para visualizar la distribución de las calificaciones. Suponga que las calificaciones en un examen fueron 87, 68, 94, 100, 83, 78, 85, 91, 76 y 87. Observe que hubo una calificación de 100, dos calificaciones en el rango de 90 a 99, cuatro calificaciones en el rango de 80 a 89, dos en el rango de 70 a 79, una en el rango de 60 a 69 y ninguna por debajo de 60. \n",
    "\n",
    "La siguiente aplicación almacena estos datos de distribución de las calificaciones en un arreglo de 11 elementos, cada uno de los cuales corresponde a una categoría de calificaciones. Por ejemplo, arreglo[0] indica el número de califi caciones en el rango de 0 a 9, arreglo[7] indica el número de califi caciones en el rango de 70 a 79 y arreglo[10] indica el número de calificaciones de 100.\n",
    "\n",
    "La aplicación lee los números del arreglo y grafica la información en forma de un gráfico de barras. El programa muestra cada rango de califi caciones seguido de una barra de asteriscos, que indican el número de calificaciones en ese rango."
   ]
  },
  {
   "cell_type": "code",
   "execution_count": 6,
   "metadata": {},
   "outputs": [
    {
     "data": {
      "text/html": [
       "<div class=\"text-center\"><strong><a style=\"box-sizing: border-box; padding: 0 5px; border: 1px solid #CFCFCF;\" target=\"_\" href=http://pythontutor.com/iframe-embed.html#code=%0A//%20Fig.%207.6%3A%20GraficoBarras.java%20%20--%20Deitel%20y%20Deitel%0A//%20Programa%20para%20imprimir%20gr%C3%A1ficos%20de%20barras.%0A%0Apublic%20class%20GraficoBarras%20%7B%0A%20%20public%20static%20void%20main%28%20String%20args%5B%5D%20%29%20%7B%0A%20%20%20%20int%20arreglo%5B%5D%20%3D%20%7B%200%2C%200%2C%200%2C%200%2C%200%2C%200%2C%201%2C%202%2C%204%2C%202%2C%201%20%7D%3B%0A%20%20%20%20%0A%20%20%20%20System.out.println%28%20%22Distribucion%20de%20calificaciones%3A%22%20%29%3B%0A%20%20%20%20%0A%20%20%20%20//%20para%20cada%20elemento%20del%20arreglo%2C%20imprime%20una%20barra%20del%20gr%C3%A1fico%0A%20%20%20%20for%20%28%20int%20contador%20%3D%200%3B%20contador%20%3C%20arreglo.length%3B%20contador%2B%2B%20%29%20%7B%0A%20%20%20%20%20%20//%20imprime%20etiqueta%20de%20la%20barra%20%28%20%2200-09%3A%20%22%2C%20...%2C%20%2290-99%3A%20%22%2C%20%22100%3A%20%22%20%29%0A%20%20%20%20%20%20if%20%28%20contador%20%3D%3D%2010%20%29%0A%20%20%20%20%20%20%20%20System.out.printf%28%20%22%255d%3A%20%22%2C%20100%20%29%3B%0A%20%20%20%20%20%20else%0A%20%20%20%20%20%20%20%20System.out.printf%28%20%22%2502d-%2502d%3A%20%22%2C%20contador%20%2A%2010%2C%20contador%20%2A%2010%20%2B%209%20%29%3B%0A%20%20%20%20%20%20%20%20%0A%20%20%20%20%20%20//%20imprime%20barra%20de%20asteriscos%0A%20%20%20%20%20%20for%20%28%20int%20estrellas%20%3D%200%3B%20estrellas%20%3C%20arreglo%5B%20contador%20%5D%3B%20estrellas%2B%2B%20%29%0A%20%20%20%20%20%20%20%20System.out.print%28%20%22%2A%22%20%29%3B%0A%20%20%20%20%20%20System.out.println%28%29%3B%20//%20inicia%20una%20nueva%20l%C3%ADnea%20de%20salida%0A%20%20%20%20%7D%20//%20fin%20de%20for%20externo%0A%20%20%7D%20//%20fin%20de%20main%0A%7D%20//%20fin%20de%20la%20clase%20GraficoBarras&origin=opt-frontend.js&cumulative=false&heapPrimitives=false&textReferences=false&curInstr=0&&verticalStack=false&py=java&rawInputLstJSON=%5B%5D&codeDivWidth=50%25&codeDivHeight=100%25>Python Tutor</a></strong></div>"
      ],
      "text/plain": [
       "<IPython.core.display.HTML object>"
      ]
     },
     "metadata": {},
     "output_type": "display_data"
    }
   ],
   "source": [
    "%%tutor -l java -k\n",
    "\n",
    "// Fig. 7.6: GraficoBarras.java  -- Deitel y Deitel\n",
    "// Programa para imprimir gráficos de barras.\n",
    "\n",
    "public class GraficoBarras {\n",
    "  public static void main( String args[] ) {\n",
    "    int arreglo[] = { 0, 0, 0, 0, 0, 0, 1, 2, 4, 2, 1 };\n",
    "    \n",
    "    System.out.println( \"Distribucion de calificaciones:\" );\n",
    "    \n",
    "    // para cada elemento del arreglo, imprime una barra del gráfico\n",
    "    for ( int contador = 0; contador < arreglo.length; contador++ ) {\n",
    "      // imprime etiqueta de la barra ( \"00-09: \", ..., \"90-99: \", \"100: \" )\n",
    "      if ( contador == 10 )\n",
    "        System.out.printf( \"%5d: \", 100 );\n",
    "      else\n",
    "        System.out.printf( \"%02d-%02d: \", contador * 10, contador * 10 + 9 );\n",
    "        \n",
    "      // imprime barra de asteriscos\n",
    "      for ( int estrellas = 0; estrellas < arreglo[ contador ]; estrellas++ )\n",
    "        System.out.print( \"*\" );\n",
    "      System.out.println(); // inicia una nueva línea de salida\n",
    "    } // fin de for externo\n",
    "  } // fin de main\n",
    "} // fin de la clase GraficoBarras"
   ]
  },
  {
   "cell_type": "markdown",
   "metadata": {},
   "source": [
    "**Ejemplo**: \n",
    "Se pidió a cuarenta estudiantes que califi caran la calidad de la comida en la cafetería estudiantil, en una escala del 1 al 10 (en donde 1 significa pésimo y 10 significa excelente). Coloque las 40 respuestas en un arreglo entero y sintetice los resultados de la encuesta."
   ]
  },
  {
   "cell_type": "code",
   "execution_count": 4,
   "metadata": {},
   "outputs": [
    {
     "data": {
      "text/html": [
       "<div class=\"text-center\"><strong><a style=\"box-sizing: border-box; padding: 0 5px; border: 1px solid #CFCFCF;\" target=\"_\" href=http://pythontutor.com/iframe-embed.html#code=//%20Fig.%207.8%3A%20EncuestaEstudiantes.java%20-%20%28Deitel%20y%20Deitel%29%0A//%20Programa%20de%20an%C3%A1lisis%20de%20una%20encuesta.%0A%0Apublic%20class%20EncuestaEstudiantes%20%7B%0A%20%20public%20static%20void%20main%28%20String%20args%5B%5D%20%29%20%7B%0A%20%20%20%20//%20arreglo%20de%20respuestas%20a%20una%20encuesta%0A%20%20%20%20int%20respuestas%5B%5D%20%3D%20%7B%201%2C%202%2C%206%2C%204%2C%208%2C%205%2C%209%2C%207%2C%208%2C%2010%2C%201%2C%206%2C%203%2C%208%2C%206%2C%0A%20%20%20%20%20%20%20%20%20%20%20%20%20%20%20%20%20%20%20%20%20%20%20%20%2010%2C%203%2C%208%2C%202%2C%207%2C%206%2C%205%2C%207%2C%206%2C%208%2C%206%2C%207%2C%205%2C%206%2C%206%2C%20%0A%20%20%20%20%20%20%20%20%20%20%20%20%20%20%20%20%20%20%20%20%20%20%20%20%205%2C%206%2C%207%2C%205%2C%206%2C%204%2C%208%2C%206%2C%208%2C%2010%20%7D%3B%0A%20%20%20%20int%20frecuencia%5B%5D%20%3D%20new%20int%5B%2011%20%5D%3B%20//%20arreglo%20de%20contadores%20de%20frecuencia%0A%20%20%20%20%0A%20%20%20%20//%20para%20cada%20respuesta%2C%20selecciona%20el%20elemento%20de%20respuestas%20y%20usa%20ese%20valor%0A%20%20%20%20//%20como%20%C3%ADndice%20de%20frecuencia%20para%20determinar%20el%20elemento%20a%20incrementar%0A%20%20%20%20for%20%28%20int%20respuesta%20%3D%200%3B%20respuesta%20%3C%20respuestas.length%3B%20respuesta%2B%2B%20%29%0A%20%20%20%20%20%20%2B%2Bfrecuencia%5B%20respuestas%5B%20respuesta%20%5D%20%5D%3B%0A%20%20%20%20%0A%20%20%20%20System.out.printf%28%20%22%25s%20%2510s%5Cn%22%2C%20%22Calificacion%22%2C%20%22Frecuencia%22%20%29%3B%0A%20%20%20%20%0A%20%20%20%20//%20imprime%20el%20valor%20de%20cada%20elemento%20del%20arreglo%0A%20%20%20%20for%20%28%20int%20calificacion%20%3D%201%3B%20calificacion%20%3C%20frecuencia.length%3B%20calificacion%2B%2B%20%29%20%0A%20%20%20%20%20%20System.out.printf%28%20%22%256d%2510d%5Cn%22%2C%20calificacion%2C%20frecuencia%5B%20calificacion%20%5D%20%29%3B%0A%20%20%20%20%7D%20//%20fin%20de%20main%0A%20%7D%20//%20fin%20de%20la%20clase%20EncuestaEstudiantes&origin=opt-frontend.js&cumulative=false&heapPrimitives=false&textReferences=false&curInstr=0&&verticalStack=false&py=java&rawInputLstJSON=%5B%5D&codeDivWidth=50%25&codeDivHeight=100%25>Python Tutor</a></strong></div>"
      ],
      "text/plain": [
       "<IPython.core.display.HTML object>"
      ]
     },
     "metadata": {},
     "output_type": "display_data"
    }
   ],
   "source": [
    "%%tutor -l java -k\n",
    "// Fig. 7.8: EncuestaEstudiantes.java - (Deitel y Deitel)\n",
    "// Programa de análisis de una encuesta.\n",
    "\n",
    "public class EncuestaEstudiantes {\n",
    "  public static void main( String args[] ) {\n",
    "    // arreglo de respuestas a una encuesta\n",
    "    int respuestas[] = { 1, 2, 6, 4, 8, 5, 9, 7, 8, 10, 1, 6, 3, 8, 6,\n",
    "                         10, 3, 8, 2, 7, 6, 5, 7, 6, 8, 6, 7, 5, 6, 6, \n",
    "                         5, 6, 7, 5, 6, 4, 8, 6, 8, 10 };\n",
    "    int frecuencia[] = new int[ 11 ]; // arreglo de contadores de frecuencia\n",
    "    \n",
    "    // para cada respuesta, selecciona el elemento de respuestas y usa ese valor\n",
    "    // como índice de frecuencia para determinar el elemento a incrementar\n",
    "    for ( int respuesta = 0; respuesta < respuestas.length; respuesta++ )\n",
    "      ++frecuencia[ respuestas[ respuesta ] ];\n",
    "    \n",
    "    System.out.printf( \"%s %10s\\n\", \"Calificacion\", \"Frecuencia\" );\n",
    "    \n",
    "    // imprime el valor de cada elemento del arreglo\n",
    "    for ( int calificacion = 1; calificacion < frecuencia.length; calificacion++ ) \n",
    "      System.out.printf( \"%6d%10d\\n\", calificacion, frecuencia[ calificacion ] );\n",
    "    } // fin de main\n",
    " } // fin de la clase EncuestaEstudiantes"
   ]
  },
  {
   "cell_type": "markdown",
   "metadata": {},
   "source": [
    "### Copia de arreglos ###"
   ]
  },
  {
   "cell_type": "markdown",
   "metadata": {},
   "source": [
    "Observe el siguiente fragmendo de codigo:"
   ]
  },
  {
   "cell_type": "code",
   "execution_count": 27,
   "metadata": {},
   "outputs": [
    {
     "data": {
      "text/html": [
       "<div class=\"text-center\"><strong><a style=\"box-sizing: border-box; padding: 0 5px; border: 1px solid #CFCFCF;\" target=\"_\" href=http://pythontutor.com/iframe-embed.html#code=%0Apublic%20class%20CopyExample2%20%7B%0A%20%20%20%20public%20static%20void%20main%28String%5B%5D%20args%29%20%7B%0A%20%20%20%20%20%20%20%20double%20%5B%5D%20r%2C%20w%3B%0A%20%20%20%20%20%20%20%20r%20%3D%20new%20double%5B11%5D%3B%0A%20%20%20%20%20%20%20%20w%20%3D%20new%20double%5B15%5D%3B%0A%20%20%20%20%20%20%20%20for%20%28int%20j%20%3D%200%3B%20j%20%3C%20r.length%3B%20j%2B%2B%29%20%7B%0A%20%20%20%20%20%20%20%20%20%20%20%20r%5Bj%5D%20%3D%20%28double%29%202%2Aj-1%3B%0A%20%20%20%20%20%20%20%20%7D%0A%20%20%20%20%20%20%20%20//%20asignaci%C3%B3n%20del%20arreglo%20r%20a%20w%0A%20%20%20%20%20%20%20%20w%20%3D%20r%3B%0A%20%20%20%20%20%20%20%20r%5B3%5D%20%3D%204%3B%0A%20%20%20%20%20%20%20%20w%5B4%5D%20%3D%20-6%3B%0A%20%20%20%20%7D%0A%7D&origin=opt-frontend.js&cumulative=false&heapPrimitives=false&textReferences=false&curInstr=0&&verticalStack=false&py=java&rawInputLstJSON=%5B%5D&codeDivWidth=50%25&codeDivHeight=100%25>Python Tutor</a></strong></div>"
      ],
      "text/plain": [
       "<IPython.core.display.HTML object>"
      ]
     },
     "metadata": {},
     "output_type": "display_data"
    }
   ],
   "source": [
    "%%tutor -l java -k\n",
    "\n",
    "public class CopyExample2 {\n",
    "    public static void main(String[] args) {\n",
    "        double [] r, w;\n",
    "        r = new double[11];\n",
    "        w = new double[15];\n",
    "        for (int j = 0; j < r.length; j++) {\n",
    "            r[j] = (double) 2*j-1;\n",
    "        }\n",
    "        // asignación del arreglo r a w\n",
    "        w = r;\n",
    "        r[3] = 4;\n",
    "        w[4] = -6;\n",
    "    }\n",
    "}"
   ]
  },
  {
   "cell_type": "markdown",
   "metadata": {},
   "source": [
    "Ahora, observe el siguiente codigo. ¿En que se diferencia respecto al anterior?"
   ]
  },
  {
   "cell_type": "code",
   "execution_count": 28,
   "metadata": {},
   "outputs": [
    {
     "data": {
      "text/html": [
       "<div class=\"text-center\"><strong><a style=\"box-sizing: border-box; padding: 0 5px; border: 1px solid #CFCFCF;\" target=\"_\" href=http://pythontutor.com/iframe-embed.html#code=%0Apublic%20class%20CopyExample1%20%7B%0A%20%20%20%20public%20static%20void%20main%28String%5B%5D%20args%29%20%7B%0A%20%20%20%20%20%20%20%20double%20%5B%5D%20r%2C%20w%3B%0A%20%20%20%20%20%20%20%20r%20%3D%20new%20double%5B11%5D%3B%0A%20%20%20%20%20%20%20%20w%20%3D%20new%20double%5B11%5D%3B%0A%20%20%20%20%20%20%20%20for%20%28int%20j%20%3D%200%3B%20j%20%3C%20r.length%3B%20j%2B%2B%29%20%7B%0A%20%20%20%20%20%20%20%20%20%20%20%20r%5Bj%5D%20%3D%20%28double%29%202%2Aj-1%3B%0A%20%20%20%20%20%20%20%20%7D%0A%20%20%20%20%20%20%20%20//%20asignaci%C3%B3n%20del%20arreglo%20r%20a%20w%0A%20%20%20%20%20%20%20%20for%20%28int%20j%20%3D%200%3B%20j%20%3C%20r.length%3B%20j%2B%2B%29%20%7B%0A%20%20%20%20%20%20%20%20%20%20%20%20w%5Bj%5D%20%3D%20r%5Bj%5D%3B%0A%20%20%20%20%20%20%20%20%7D%0A%20%20%20%20%20%20%20%20r%5B3%5D%20%3D%204%3B%0A%20%20%20%20%20%20%20%20w%5B4%5D%20%3D%20-6%3B%0A%20%20%20%20%7D%0A%7D&origin=opt-frontend.js&cumulative=false&heapPrimitives=false&textReferences=false&curInstr=0&&verticalStack=false&py=java&rawInputLstJSON=%5B%5D&codeDivWidth=50%25&codeDivHeight=100%25>Python Tutor</a></strong></div>"
      ],
      "text/plain": [
       "<IPython.core.display.HTML object>"
      ]
     },
     "metadata": {},
     "output_type": "display_data"
    }
   ],
   "source": [
    "%%tutor -l java -k\n",
    "\n",
    "public class CopyExample1 {\n",
    "    public static void main(String[] args) {\n",
    "        double [] r, w;\n",
    "        r = new double[11];\n",
    "        w = new double[11];\n",
    "        for (int j = 0; j < r.length; j++) {\n",
    "            r[j] = (double) 2*j-1;\n",
    "        }\n",
    "        // asignación del arreglo r a w\n",
    "        for (int j = 0; j < r.length; j++) {\n",
    "            w[j] = r[j];\n",
    "        }\n",
    "        r[3] = 4;\n",
    "        w[4] = -6;\n",
    "    }\n",
    "}"
   ]
  },
  {
   "cell_type": "markdown",
   "metadata": {},
   "source": [
    "### Metodo arraycopy ###\n",
    "\n",
    "**Sintaxis**:\n",
    "\n",
    "```java\n",
    "System.arraycopy (arreglo Origen, inicioOrigen, arreglo Destino, inicioDestino, numElementos)\n",
    "```\n",
    "\n",
    "**Donde**:\n",
    "* **arreglo Origen**: nombre del arreglo que se va a copiar.\n",
    "* **inicioOrigen**: posición del arreglo origen donde se inicia la copia.\n",
    "* **arreglo Destino**: nombre del arreglo en el que se hace la copia.\n",
    "* **inicioDestino**: es la posición del arreglo destino donde empieza la copia.\n",
    "* **numElementos**: número de elementos del arreglo origen que se van a copiar."
   ]
  },
  {
   "cell_type": "code",
   "execution_count": 29,
   "metadata": {},
   "outputs": [
    {
     "data": {
      "text/html": [
       "<div class=\"text-center\"><strong><a style=\"box-sizing: border-box; padding: 0 5px; border: 1px solid #CFCFCF;\" target=\"_\" href=http://pythontutor.com/iframe-embed.html#code=%0Apublic%20class%20CopyExample3%20%7B%0A%20%20%20%20public%20static%20void%20main%28String%5B%5D%20args%29%20%7B%0A%20%20%20%20%20%20%20%20double%20%5B%5D%20r%2C%20w%3B%0A%20%20%20%20%20%20%20%20r%20%3D%20new%20double%5B11%5D%3B%0A%20%20%20%20%20%20%20%20w%20%3D%20new%20double%5B11%5D%3B%0A%20%20%20%20%20%20%20%20for%20%28int%20j%20%3D%200%3B%20j%20%3C%20r.length%3B%20j%2B%2B%29%20%7B%0A%20%20%20%20%20%20%20%20%20%20%20%20r%5Bj%5D%20%3D%20%28double%29%202%2Aj-1%3B%0A%20%20%20%20%20%20%20%20%7D%0A%20%20%20%20%20%20%20%20//%20asignaci%C3%B3n%20del%20arreglo%20r%20a%20w%0A%20%20%20%20%20%20%20%20System.arraycopy%20%28r%2C%200%2C%20w%2C%200%2C%20r.length%29%3B%0A%20%20%20%20%20%20%20%20r%5B3%5D%20%3D%204%3B%0A%20%20%20%20%20%20%20%20w%5B4%5D%20%3D%20-6%3B%0A%20%20%20%20%7D%0A%7D&origin=opt-frontend.js&cumulative=false&heapPrimitives=false&textReferences=false&curInstr=0&&verticalStack=false&py=java&rawInputLstJSON=%5B%5D&codeDivWidth=50%25&codeDivHeight=100%25>Python Tutor</a></strong></div>"
      ],
      "text/plain": [
       "<IPython.core.display.HTML object>"
      ]
     },
     "metadata": {},
     "output_type": "display_data"
    }
   ],
   "source": [
    "%%tutor -l java -k\n",
    "\n",
    "public class CopyExample3 {\n",
    "    public static void main(String[] args) {\n",
    "        double [] r, w;\n",
    "        r = new double[11];\n",
    "        w = new double[11];\n",
    "        for (int j = 0; j < r.length; j++) {\n",
    "            r[j] = (double) 2*j-1;\n",
    "        }\n",
    "        // asignación del arreglo r a w\n",
    "        System.arraycopy (r, 0, w, 0, r.length);\n",
    "        r[3] = 4;\n",
    "        w[4] = -6;\n",
    "    }\n",
    "}"
   ]
  },
  {
   "cell_type": "markdown",
   "metadata": {},
   "source": [
    "### Ejercicio 10.2 ###\n",
    "Definir dos arreglos de tipo double, v y w con 15 y 20 elementos respectivamente; \n",
    "en el primero se guardan los valores de la función e^(2*x - 1); el segundo inicializa cada elemento al ordinal del elemento; después se copian los 10 últimos\n",
    "elementos de v a partir del elemento 11 de w; por ultimo, se escriben los\n",
    "elementos de ambos arreglos.\n",
    "\n",
    "**Solución**:\n",
    "    \n",
    "```java\n",
    "public class CopiArreglo\n",
    "{\n",
    "    public static void main(String [] a)\n",
    "    {\n",
    "        final int N = 15;\n",
    "        final int M = 20;\n",
    "        double [] v = new double[N];\n",
    "        double [] w = new double [M];\n",
    "        double x = 1.0;\n",
    "\n",
    "        for (int i = 0; i < N; x+=0.2,i++) {\n",
    "            v[i] = Math.exp(2 * x - 1);\n",
    "        }\n",
    "\n",
    "        for (int i = 0; i < M; i++) {\n",
    "            w[i] = (double) i;\n",
    "        }\n",
    "\n",
    "        // Se imprimen los elementos del vector v\n",
    "        System.out.println(\"\\n Valores del vector v\");\n",
    "        for (int i = 0; i < N; i++) {\n",
    "            System.out.print(v[i] + \" \");\n",
    "        }\n",
    "\n",
    "        // Es realizada la copia de v a w\n",
    "        System.arraycopy(v, (N-1)-10 +1, w, 10, 10);\n",
    "\n",
    "        // Se imprimen los elementos del vector w\n",
    "        System.out.println(\"\\n Valores del vector w\");\n",
    "        for (int i = 0; i < M; i++) {\n",
    "            System.out.print(w[i] + \" \");\n",
    "        }\n",
    "    }\n",
    "}\n",
    "```  "
   ]
  },
  {
   "cell_type": "markdown",
   "metadata": {},
   "source": [
    "### Bucle for each para recorrido de arreglos y colecciones ###"
   ]
  },
  {
   "cell_type": "code",
   "execution_count": 32,
   "metadata": {},
   "outputs": [
    {
     "data": {
      "text/html": [
       "<div class=\"text-center\"><strong><a style=\"box-sizing: border-box; padding: 0 5px; border: 1px solid #CFCFCF;\" target=\"_\" href=http://pythontutor.com/iframe-embed.html#code=%0Apublic%20class%20Bucle%20%7B%0A%20%20%20%20public%20static%20void%20main%28String%5B%5D%20args%29%20%7B%0A%20%20%20%20%20%20%20%20int%20sumA%20%3D%200%2C%20sumB%20%3D%200%3B%0A%20%20%20%20%20%20%20%20int%20%5B%5D%20a%20%3D%20%7B1%2C2%2C3%7D%3B%0A%20%20%20%20%20%20%20%20int%20%5B%5D%20b%20%3D%20%7B4%2C5%2C6%7D%3B%0A%20%20%20%20%20%20%20%20%0A%20%20%20%20%20%20%20%20//%20Forma%20tradicional%0A%20%20%20%20%20%20%20%20for%20%28int%20i%20%3D%200%3B%20i%20%3C%20a.length%3B%20i%2B%2B%29%20%7B%0A%20%20%20%20%20%20%20%20%20%20%20%20System.out.print%28a%5Bi%5D%20%2B%20%22%20%22%29%3B%0A%20%20%20%20%20%20%20%20%20%20%20%20sumA%20%2B%3D%20a%5Bi%5D%3B%0A%20%20%20%20%20%20%20%20%7D%0A%20%20%20%20%20%20%20%20System.out.print%28%22%5CnsumA%20%3D%20%22%20%2B%20sumA%20%2B%20%22%5Cn%5Cn%22%29%3B%0A%20%20%20%20%20%20%20%20//%20Forma%20for%20each%0A%20%20%20%20%20%20%20%20for%20%28int%20num%3Ab%29%20%7B%0A%20%20%20%20%20%20%20%20%20%20%20%20System.out.print%28num%20%2B%20%22%20%22%29%3B%0A%20%20%20%20%20%20%20%20%20%20%20%20sumB%20%2B%3D%20num%3B%0A%20%20%20%20%20%20%20%20%7D%0A%20%20%20%20%20%20%20%20System.out.print%28%22%5CnsumB%20%3D%20%22%20%2B%20sumB%20%2B%20%22%5Cn%22%29%3B%0A%20%20%20%20%7D%0A%7D&origin=opt-frontend.js&cumulative=false&heapPrimitives=false&textReferences=false&curInstr=0&&verticalStack=false&py=java&rawInputLstJSON=%5B%5D&codeDivWidth=50%25&codeDivHeight=100%25>Python Tutor</a></strong></div>"
      ],
      "text/plain": [
       "<IPython.core.display.HTML object>"
      ]
     },
     "metadata": {},
     "output_type": "display_data"
    }
   ],
   "source": [
    "%%tutor -l java -k\n",
    "\n",
    "public class Bucle {\n",
    "    public static void main(String[] args) {\n",
    "        int sumA = 0, sumB = 0;\n",
    "        int [] a = {1,2,3};\n",
    "        int [] b = {4,5,6};\n",
    "        \n",
    "        // Forma tradicional\n",
    "        for (int i = 0; i < a.length; i++) {\n",
    "            System.out.print(a[i] + \" \");\n",
    "            sumA += a[i];\n",
    "        }\n",
    "        System.out.print(\"\\nsumA = \" + sumA + \"\\n\\n\");\n",
    "        // Forma for each\n",
    "        for (int num:b) {\n",
    "            System.out.print(num + \" \");\n",
    "            sumB += num;\n",
    "        }\n",
    "        System.out.print(\"\\nsumB = \" + sumB + \"\\n\");\n",
    "    }\n",
    "}"
   ]
  },
  {
   "cell_type": "markdown",
   "metadata": {},
   "source": [
    "### Arrays y funciones ###\n",
    "Es posible escribir métodos para procesar arrays. Estos permiten el paso de arreglos completos y no solo un elemento a la vez.\n",
    "\n",
    "#### Definición ####\n",
    "\n",
    "```java\n",
    "public static tipo nombreMetodo(tipo [] nombreArreglo,...);\n",
    "```\n",
    "\n",
    "**Ejemplo**: Escribir un metodo para escribir cada uno de los elementos de un arreglo\n",
    "\n",
    "```java\n",
    "public static void showArray(int[] array) {\n",
    "  for (int i = 0; i < array.length; i++)\n",
    "    System.out.print(array[i] + \" \");\n",
    "  }\n",
    "}\n",
    "```\n",
    "\n",
    "#### Invocación ####\n",
    "\n",
    "```java\n",
    "variable [=] nombreMetodo(nombreArregloArgumento);\n",
    "```\n",
    "\n",
    "**Ejemplo**: Invocar el metodo anterior para imprimir el array A = {5, 10, 15, 20, 25, 30, 35, 40};\n",
    "\n",
    "```java\n",
    "A = {5, 10, 15, 20, 25, 30, 35, 40};\n",
    "showArray(A);\n",
    "}\n",
    "```"
   ]
  },
  {
   "cell_type": "markdown",
   "metadata": {},
   "source": [
    "**Ejemplo**: El siguiente ejemplo muestra el uso de funciones que trabajan con arreglos."
   ]
  },
  {
   "cell_type": "code",
   "execution_count": null,
   "metadata": {},
   "outputs": [],
   "source": [
    " %%tutor -l java -k\n",
    "    \n",
    "// Fig. 7.13: PasoArreglo.java -- Deitel y Deitel\n",
    "// Paso de arreglos y elementos individuales de un arreglo a los métodos.\n",
    "\n",
    "public class PasoArreglo {\n",
    "  // main crea el arreglo y llama a modificarArreglo y a modificarElemento\n",
    "  public static void main( String args[] ) {\n",
    "    int arreglo[] = { 1, 2, 3, 4, 5 };\n",
    "    \n",
    "    System.out.println(\n",
    "      \"Efectos de pasar una referencia a un arreglo completo:\\n\" +\n",
    "      \"Los valores del arreglo original son:\" \n",
    "      );\n",
    "\n",
    "    // imprime los elementos originales del arreglo\n",
    "    for ( int valor : arreglo )\n",
    "      System.out.printf( \" %d\", valor );\n",
    "    \n",
    "    modificarArreglo( arreglo ); // pasa la referencia al arreglo\n",
    "    System.out.println( \"\\n\\nLos valores del arreglo modificado son:\" );\n",
    "\n",
    "    // imprime los elementos modificados del arreglo\n",
    "    for ( int valor : arreglo )\n",
    "      System.out.printf( \" %d\", valor );\n",
    "\n",
    "    System.out.printf(\n",
    "      \"\\n\\nEfectos de pasar el valor de un elemento del arreglo:\\n\" +\n",
    "      \"arreglo[3] antes de modificarElemento: %d\\n\", arreglo[ 3 ] \n",
    "      );\n",
    "\n",
    "    modificarElemento( arreglo[ 3 ] ); // intento por modificar arreglo[ 3 ]\n",
    "    System.out.printf(\n",
    "      \"arreglo[3] despues de modificarElemento: %d\\n\", arreglo[ 3 ] \n",
    "    );\n",
    "  } // fin de main\n",
    "\n",
    "  // multiplica cada elemento de un arreglo por 2 \n",
    "  public static void modificarArreglo( int arreglo2[] ) {\n",
    "    for ( int contador = 0; contador < arreglo2.length; contador++ )\n",
    "    arreglo2[ contador ] *= 2;\n",
    "  } // fin del método modificarArreglo\n",
    "\n",
    "  // multiplica el argumento por 2\n",
    "  public static void modificarElemento( int elemento ) {\n",
    "    elemento *= 2;\n",
    "    System.out.printf(\n",
    "     \"Valor del elemento en modificarElemento: %d\\n\", elemento \n",
    "    );\n",
    "  } // fin del método modificarElemento\n",
    "} // fin de la clase PasoArreglo"
   ]
  },
  {
   "cell_type": "markdown",
   "metadata": {},
   "source": [
    "#### Observación ####\n",
    "\n",
    "Un método puede retornar una referencia a un array. Para esto, el tipo de retorno debe ser declarado como un array a la derecha del nombre del método tal y como se muestra en la siguiente sintaxis.\n",
    "\n",
    "```java\n",
    "public static []tipo nombreMetodo(tipo [] nombreArreglo,...);\n",
    "```\n",
    "\n",
    "**Ejemplo**:\n",
    "\n",
    "```java\n",
    "public static double[] getArray() {\n",
    "  double[] array = { 1.2, 2.3, 4.5, 6.7, 8.9 };\n",
    "  return array;\n",
    "}\n",
    "```\n"
   ]
  },
  {
   "cell_type": "code",
   "execution_count": null,
   "metadata": {},
   "outputs": [],
   "source": []
  }
 ],
 "metadata": {
  "kernelspec": {
   "display_name": "Python 3",
   "language": "python",
   "name": "python3"
  },
  "language_info": {
   "codemirror_mode": {
    "name": "ipython",
    "version": 3
   },
   "file_extension": ".py",
   "mimetype": "text/x-python",
   "name": "python",
   "nbconvert_exporter": "python",
   "pygments_lexer": "ipython3",
   "version": "3.4.6"
  }
 },
 "nbformat": 4,
 "nbformat_minor": 2
}
