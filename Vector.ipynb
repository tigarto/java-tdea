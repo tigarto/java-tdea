{
 "cells": [
  {
   "cell_type": "code",
   "execution_count": 2,
   "metadata": {},
   "outputs": [
    {
     "name": "stdout",
     "output_type": "stream",
     "text": [
      "Requirement already satisfied: tutormagic in /usr/local/lib/python3.5/dist-packages (0.3.0)\n",
      "Requirement already satisfied: notebook>=3.0 in /usr/local/lib/python3.5/dist-packages (from tutormagic) (5.5.0)\n",
      "Requirement already satisfied: jinja2 in /usr/lib/python3/dist-packages (from notebook>=3.0->tutormagic) (2.8)\n",
      "Collecting pyzmq>=17 (from notebook>=3.0->tutormagic)\n",
      "  Using cached https://files.pythonhosted.org/packages/66/cf/979427611e7e1ad7cfb762139fc69a4db9b176aee55bf1379d57260fcf05/pyzmq-18.1.0-cp35-cp35m-manylinux1_x86_64.whl\n",
      "Requirement already satisfied: nbconvert in /usr/local/lib/python3.5/dist-packages (from notebook>=3.0->tutormagic) (5.3.1)\n",
      "Requirement already satisfied: traitlets>=4.2.1 in /usr/local/lib/python3.5/dist-packages (from notebook>=3.0->tutormagic) (4.3.2)\n",
      "Requirement already satisfied: nbformat in /usr/local/lib/python3.5/dist-packages (from notebook>=3.0->tutormagic) (4.4.0)\n",
      "Requirement already satisfied: Send2Trash in /usr/local/lib/python3.5/dist-packages (from notebook>=3.0->tutormagic) (1.5.0)\n",
      "Requirement already satisfied: ipykernel in /usr/local/lib/python3.5/dist-packages (from notebook>=3.0->tutormagic) (4.8.2)\n",
      "Requirement already satisfied: terminado>=0.8.1 in /usr/local/lib/python3.5/dist-packages (from notebook>=3.0->tutormagic) (0.8.1)\n",
      "Requirement already satisfied: jupyter-client>=5.2.0 in /usr/local/lib/python3.5/dist-packages (from notebook>=3.0->tutormagic) (5.2.3)\n",
      "Requirement already satisfied: jupyter-core>=4.4.0 in /usr/local/lib/python3.5/dist-packages (from notebook>=3.0->tutormagic) (4.4.0)\n",
      "Requirement already satisfied: tornado>=4 in /usr/local/lib/python3.5/dist-packages (from notebook>=3.0->tutormagic) (5.0.2)\n",
      "Requirement already satisfied: ipython-genutils in /usr/local/lib/python3.5/dist-packages (from notebook>=3.0->tutormagic) (0.2.0)\n",
      "Requirement already satisfied: bleach in /usr/local/lib/python3.5/dist-packages (from nbconvert->notebook>=3.0->tutormagic) (2.1.3)\n",
      "Requirement already satisfied: mistune>=0.7.4 in /usr/local/lib/python3.5/dist-packages (from nbconvert->notebook>=3.0->tutormagic) (0.8.3)\n",
      "Requirement already satisfied: pygments in /usr/lib/python3/dist-packages (from nbconvert->notebook>=3.0->tutormagic) (2.1)\n",
      "Requirement already satisfied: pandocfilters>=1.4.1 in /usr/local/lib/python3.5/dist-packages (from nbconvert->notebook>=3.0->tutormagic) (1.4.2)\n",
      "Requirement already satisfied: testpath in /usr/local/lib/python3.5/dist-packages (from nbconvert->notebook>=3.0->tutormagic) (0.3.1)\n",
      "Requirement already satisfied: entrypoints>=0.2.2 in /usr/local/lib/python3.5/dist-packages (from nbconvert->notebook>=3.0->tutormagic) (0.2.3)\n",
      "Requirement already satisfied: decorator in /usr/lib/python3/dist-packages (from traitlets>=4.2.1->notebook>=3.0->tutormagic) (4.0.6)\n",
      "Requirement already satisfied: six in /usr/lib/python3/dist-packages (from traitlets>=4.2.1->notebook>=3.0->tutormagic) (1.10.0)\n",
      "Requirement already satisfied: jsonschema!=2.5.0,>=2.4 in /usr/lib/python3/dist-packages (from nbformat->notebook>=3.0->tutormagic) (2.5.1)\n",
      "Requirement already satisfied: ipython>=4.0.0 in /usr/local/lib/python3.5/dist-packages (from ipykernel->notebook>=3.0->tutormagic) (6.4.0)\n",
      "Requirement already satisfied: ptyprocess; os_name != \"nt\" in /usr/lib/python3/dist-packages (from terminado>=0.8.1->notebook>=3.0->tutormagic) (0.5)\n",
      "Requirement already satisfied: python-dateutil>=2.1 in /usr/local/lib/python3.5/dist-packages (from jupyter-client>=5.2.0->notebook>=3.0->tutormagic) (2.8.0)\n",
      "Collecting html5lib!=1.0b1,!=1.0b2,!=1.0b3,!=1.0b4,!=1.0b5,!=1.0b6,!=1.0b7,!=1.0b8,>=0.99999999pre (from bleach->nbconvert->notebook>=3.0->tutormagic)\n",
      "  Using cached https://files.pythonhosted.org/packages/a5/62/bbd2be0e7943ec8504b517e62bab011b4946e1258842bc159e5dfde15b96/html5lib-1.0.1-py2.py3-none-any.whl\n",
      "Requirement already satisfied: simplegeneric>0.8 in /usr/local/lib/python3.5/dist-packages (from ipython>=4.0.0->ipykernel->notebook>=3.0->tutormagic) (0.8.1)\n",
      "Requirement already satisfied: pickleshare in /usr/local/lib/python3.5/dist-packages (from ipython>=4.0.0->ipykernel->notebook>=3.0->tutormagic) (0.7.4)\n",
      "Requirement already satisfied: setuptools>=18.5 in /usr/lib/python3/dist-packages (from ipython>=4.0.0->ipykernel->notebook>=3.0->tutormagic) (20.7.0)\n",
      "Requirement already satisfied: pexpect; sys_platform != \"win32\" in /usr/lib/python3/dist-packages (from ipython>=4.0.0->ipykernel->notebook>=3.0->tutormagic) (4.0.1)\n",
      "Requirement already satisfied: prompt-toolkit<2.0.0,>=1.0.15 in /usr/local/lib/python3.5/dist-packages (from ipython>=4.0.0->ipykernel->notebook>=3.0->tutormagic) (1.0.15)\n",
      "Requirement already satisfied: backcall in /usr/local/lib/python3.5/dist-packages (from ipython>=4.0.0->ipykernel->notebook>=3.0->tutormagic) (0.1.0)\n",
      "Requirement already satisfied: jedi>=0.10 in /usr/local/lib/python3.5/dist-packages (from ipython>=4.0.0->ipykernel->notebook>=3.0->tutormagic) (0.12.0)\n",
      "Requirement already satisfied: webencodings in /usr/local/lib/python3.5/dist-packages (from html5lib!=1.0b1,!=1.0b2,!=1.0b3,!=1.0b4,!=1.0b5,!=1.0b6,!=1.0b7,!=1.0b8,>=0.99999999pre->bleach->nbconvert->notebook>=3.0->tutormagic) (0.5.1)\n",
      "Requirement already satisfied: wcwidth in /usr/local/lib/python3.5/dist-packages (from prompt-toolkit<2.0.0,>=1.0.15->ipython>=4.0.0->ipykernel->notebook>=3.0->tutormagic) (0.1.7)\n",
      "Requirement already satisfied: parso>=0.2.0 in /usr/local/lib/python3.5/dist-packages (from jedi>=0.10->ipython>=4.0.0->ipykernel->notebook>=3.0->tutormagic) (0.2.1)\n",
      "Installing collected packages: pyzmq, html5lib\n",
      "  Found existing installation: pyzmq 15.2.0\n",
      "\u001b[31mCannot uninstall 'pyzmq'. It is a distutils installed project and thus we cannot accurately determine which files belong to it which would lead to only a partial uninstall.\u001b[0m\n",
      "\u001b[33mYou are using pip version 19.0.3, however version 19.3.1 is available.\n",
      "You should consider upgrading via the 'pip install --upgrade pip' command.\u001b[0m\n"
     ]
    }
   ],
   "source": [
    "!pip3 install tutormagic\n",
    "%load_ext tutormagic"
   ]
  },
  {
   "cell_type": "markdown",
   "metadata": {},
   "source": [
    "# Clase Vector # "
   ]
  },
  {
   "cell_type": "markdown",
   "metadata": {},
   "source": [
    "La clase Vector se encuentra en el paquete java.util:\n",
    "* Tiene un comportamiento similar a un arreglo unidimensional\n",
    "* Guarda objetos o referencias de cualquier tipo, crece dinámicamente, sin necesidad de tener que programar operaciones adicionales; el arreglo donde almacena los elementos es de tipo Object"
   ]
  },
  {
   "cell_type": "markdown",
   "metadata": {},
   "source": [
    "## Creación de un vector ##\n",
    "\n",
    "Se utiliza el operador new de igual forma que se crea cualquier objeto; la clase Vector dispone de diversos constructores:\n",
    "\n",
    "```java\n",
    "public Vector(); // crea un vector vacío.\n",
    "public Vector(int capacidad); // crea un vector con una capacidad inicial.\n",
    "public Vector(Collection org); // crea un vector con los elementos de org.\n",
    "```\n",
    "\n",
    "**Ejemplos**: A continuación se crean algunos objetos tipo Vector:\n",
    "\n",
    "```java\n",
    "Vector v1 = new Vector();\n",
    "Vector v2 = new Vector(100);\n",
    "Vector v3 = new Vector(v2);// v3 contiene los mismo elementos que v2\n",
    "```\n"
   ]
  },
  {
   "cell_type": "markdown",
   "metadata": {},
   "source": [
    "## Inserción de elementos ##\n",
    "\n",
    "Hay diferentes métodos para insertar o añadir elementos al vector; los elementos que insertan deben ser objetos, no pueden ser datos de tipos primitivos como int, char, etc. A continuación se muestran algunos métodos de inserción:\n",
    "1. Añade el objeto después del último elemento del vector \n",
    "\n",
    "```java\n",
    "boolean add (Object ob)\n",
    "```\n",
    "\n",
    "2. Añade el objeto después del último elemento del vector \n",
    "\n",
    "```java\n",
    "void addElement(Object ob)\n",
    "```\n",
    "\n",
    "3. Inserta el objeto en la posición p; los elementos posteriores a p se desplazan.\n",
    "\n",
    "```java\n",
    "void insertElement(Object ob, int p) \n",
    "```\n",
    "\n",
    "Cuando se crea el vector con un tipo concreto, el elemento que se inserta ha de ser de ese tipo, o de uno derivado:\n",
    "\n",
    "```java\n",
    "Vector<String> vc = new Vector<String>();\n",
    "vc.add(\"Jueves\"),\n",
    "vc.addElement (new Integer(12)); // error de tipo\n",
    "```"
   ]
  },
  {
   "cell_type": "markdown",
   "metadata": {},
   "source": [
    "## Acceso a un elemento ##\n",
    "\n",
    "Se accede a un elemento del vector por la posición que ocupa; los métodos de acceso devuelven el elemento con el tipo Object, entonces puede ser necesario realizar una conversión al tipo del objeto.\n",
    "1. Devuelve el elemento cuya posición es p:\n",
    "\n",
    "```java\n",
    "Object elementAt(int p); \n",
    "```\n",
    "\n",
    "2. Devuelve el elemento cuya posición es p:\n",
    "\n",
    "```java\n",
    "Object get(int p);\n",
    "```\n",
    "\n",
    "3. Devuelve el número de elementos:\n",
    "\n",
    "```java\n",
    "int size(); \n",
    "```\n"
   ]
  },
  {
   "cell_type": "markdown",
   "metadata": {},
   "source": [
    "## Eliminar un elemento ##\n",
    "\n",
    "Un elemento se puede eliminar de distintas formas, una de ellas es por la posición que ocupa en el índice, a partir de esa posición el resto de elementos del vector se mueven una posición a la izquierda disminuyendo el número de elementos; otra forma es transmitir el objeto que se desea retirar del vector; también hay métodos de la clase para eliminar todos los elementos de una colección.\n",
    "\n",
    "1. Elimina elemento índice y el resto se reenumera:\n",
    "\n",
    "```java\n",
    "void removeElementAt(int indice);\n",
    "```\n",
    "\n",
    "2. Elimina la primera aparición de op; devuelve true si realiza la eliminación.\n",
    "\n",
    "```java\n",
    "boolean removeElement (Object op);\n",
    "```\n",
    "\n",
    "3. Elimina los elementos que están en gr.\n",
    "\n",
    "```java\n",
    "void removeAll(Collection gr);\n",
    "```\n",
    "\n",
    "4. Elimina todos los elementos.\n",
    "\n",
    "```java\n",
    "void removeAllElements();\n",
    "```"
   ]
  },
  {
   "cell_type": "markdown",
   "metadata": {},
   "source": [
    "## Busqueda ##\n",
    "\n",
    "Los diversos métodos de búsqueda de Vector devuelven la posición de la primera ocurrencia del objeto buscado, o bien verdadero-falso según el resultado de la búsqueda.\n",
    "\n",
    "1. Verifica si el vector contiene a op devolviendo true lo encuentra\n",
    "\n",
    "```java\n",
    "boolean contains(Object op);\n",
    "```\n",
    "\n",
    "2. Devuelve la (primera si hay varias) posición en la que se encuentra op. En caso de no encontrarse op en el vector el valor retornado es -1. \n",
    "\n",
    "```java\n",
    "int indexOf(Object op);\n",
    "```\n"
   ]
  },
  {
   "cell_type": "markdown",
   "metadata": {},
   "source": [
    "**Ejemplo**: Utilizar un vector para guardar números racionales"
   ]
  },
  {
   "cell_type": "code",
   "execution_count": 3,
   "metadata": {},
   "outputs": [
    {
     "data": {
      "text/html": [
       "<div class=\"text-center\"><strong><a style=\"box-sizing: border-box; padding: 0 5px; border: 1px solid #CFCFCF;\" target=\"_\" href=http://pythontutor.com/iframe-embed.html#code=%0Aimport%20java.util.Vector%3B%0A%0Aclass%20Racional%20%7B%20%0A%20%20private%20int%20x%2C%20y%3B%0A%20%20public%20Racional%28int%20x%2C%20int%20y%29%20%7B%0A%20%20%20%20this.x%20%3D%20x%3B%0A%20%20%20%20this.y%20%3D%20y%3B%0A%20%20%7D%0A%20%20public%20void%20mostrar%28%29%20%7B%0A%20%20%20%20System.out.println%28x%20%2B%20%22/%22%20%2B%20y%29%3B%0A%20%20%7D%0A%7D%0A%0Apublic%20class%20VectorNumero%20%7B%0A%20%20static%20final%20int%20N%20%3D%203%3B%0A%20%20public%20static%20void%20main%28String%5B%5D%20args%29%20%7B%0A%20%20%20%20Vector%20num%20%3D%20new%20Vector%28%29%3B%0A%20%20%20%20for%28int%20i%20%3D%201%3B%20i%20%3C%3D%20N%3B%20i%2B%2B%29%20%7B%0A%20%20%20%20%20%20Racional%20q%3B%0A%20%20%20%20%20%20q%20%3D%20new%20Racional%283%20%2A%20i%2C%203%20%2A%20i%20%25%207%20%2B%201%29%3B%0A%20%20%20%20%20%20num.addElement%28q%29%3B%20%20%20%20%0A%20%20%20%20%7D%0A%20%20%20%20//%20recuperaci%C3%B3n%20de%20los%20elementos%0A%20%20%20%20int%20k%3B%0A%20%20%20%20k%20%3D%20num.size%28%29%3B%20//%20n%C3%BAmero%20de%20elementos%0A%20%20%20%20for%20%28int%20i%20%3D%200%3B%20i%20%3C%20N%3B%20i%2B%2B%29%20%7B%0A%20%20%20%20%20%20Racional%20q%3B%0A%20%20%20%20%20%20q%20%3D%20%28Racional%29num.elementAt%28i%29%3B%0A%20%20%20%20%20%20q.mostrar%28%29%3B%0A%20%20%20%20%7D%20%20%0A%20%20%7D%0A%7D&origin=opt-frontend.js&cumulative=false&heapPrimitives=false&textReferences=false&curInstr=0&&verticalStack=false&py=java&rawInputLstJSON=%5B%5D&codeDivWidth=50%25&codeDivHeight=100%25>Python Tutor</a></strong></div>"
      ],
      "text/plain": [
       "<IPython.core.display.HTML object>"
      ]
     },
     "metadata": {},
     "output_type": "display_data"
    }
   ],
   "source": [
    "%%tutor -l java -k\n",
    "\n",
    "import java.util.Vector;\n",
    "\n",
    "class Racional { \n",
    "  private int x, y;\n",
    "  public Racional(int x, int y) {\n",
    "    this.x = x;\n",
    "    this.y = y;\n",
    "  }\n",
    "  public void mostrar() {\n",
    "    System.out.println(x + \"/\" + y);\n",
    "  }\n",
    "}\n",
    "\n",
    "public class VectorNumero {\n",
    "  static final int N = 3;\n",
    "  public static void main(String[] args) {\n",
    "    Vector num = new Vector();\n",
    "    for(int i = 1; i <= N; i++) {\n",
    "      Racional q;\n",
    "      q = new Racional(3 * i, 3 * i % 7 + 1);\n",
    "      num.addElement(q);    \n",
    "    }\n",
    "    // recuperación de los elementos\n",
    "    int k;\n",
    "    k = num.size(); // número de elementos\n",
    "    for (int i = 0; i < N; i++) {\n",
    "      Racional q;\n",
    "      q = (Racional)num.elementAt(i);\n",
    "      q.mostrar();\n",
    "    }  \n",
    "  }\n",
    "}"
   ]
  },
  {
   "cell_type": "markdown",
   "metadata": {},
   "source": [
    "En el siguiente [enlace](Java.util.Vector Class in Java) se encuentran ejemplos utiles para aterrizar conceptos."
   ]
  },
  {
   "cell_type": "markdown",
   "metadata": {},
   "source": [
    "## Referencias ##\n",
    "1. https://docs.oracle.com/javase/8/docs/api/java/util/Vector.html\n",
    "2. https://www.tutorialspoint.com/java/util/java_util_vector.htm\n",
    "3. https://www.geeksforgeeks.org/java-util-vector-class-java/"
   ]
  },
  {
   "cell_type": "code",
   "execution_count": null,
   "metadata": {},
   "outputs": [],
   "source": []
  }
 ],
 "metadata": {
  "kernelspec": {
   "display_name": "Python 3",
   "language": "python",
   "name": "python3"
  },
  "language_info": {
   "codemirror_mode": {
    "name": "ipython",
    "version": 3
   },
   "file_extension": ".py",
   "mimetype": "text/x-python",
   "name": "python",
   "nbconvert_exporter": "python",
   "pygments_lexer": "ipython3",
   "version": "3.4.6"
  }
 },
 "nbformat": 4,
 "nbformat_minor": 2
}
